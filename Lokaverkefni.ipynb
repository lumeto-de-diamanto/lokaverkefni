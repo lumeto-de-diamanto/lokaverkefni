{
 "cells": [
  {
   "cell_type": "markdown",
   "metadata": {
    "id": "Ob3W2u53q0MX"
   },
   "source": [
    "# Lokaverkefni: Leiðarval hjá Strætó"
   ]
  },
  {
   "cell_type": "code",
   "execution_count": 1,
   "metadata": {
    "colab": {
     "base_uri": "https://localhost:8080/"
    },
    "id": "Fw6OZAw7lM8E",
    "outputId": "2e7d4c1f-411c-42a1-90e2-28e34ad1f6b4"
   },
   "outputs": [
    {
     "name": "stdout",
     "output_type": "stream",
     "text": [
      "20.33\n"
     ]
    }
   ],
   "source": [
    "from posixpath import split\n",
    "\n",
    "def convertTime(t1, t2):\n",
    "  t1_hours = int(t1.split(':')[0])\n",
    "  t1_min = int(t1.split(':')[1])\n",
    "  t1_seconds = int(t1.split(':')[2])\n",
    "\n",
    "  t2_hours = int(t2.split(':')[0])\n",
    "  t2_min = int(t2.split(':')[1])\n",
    "  t2_seconds = int(t2.split(':')[2])\n",
    "\n",
    "\n",
    "  t1_minutes = (t1_hours * 60 ) + t1_min + (t1_seconds / 60)\n",
    "  t2_minutes = (t2_hours * 60 ) + t2_min + (t2_seconds / 60)\n",
    "\n",
    "  diff = round((max(t1_minutes, t2_minutes) - min(t1_minutes, t2_minutes)), 2)\n",
    "\n",
    "  return diff\n",
    "\n",
    "\n",
    "t1 = '09:30:20'\n",
    "t2 = '09:10:00'\n",
    "print(convertTime(t1, t2))"
   ]
  },
  {
   "cell_type": "code",
   "execution_count": 2,
   "metadata": {},
   "outputs": [],
   "source": [
    "def time_to_minutes(ti):\n",
    "  splitted = ti.split(':')\n",
    "  \n",
    "  hours = int(splitted[0])\n",
    "  min = int(splitted[1])\n",
    "  seconds = int(splitted[2])\n",
    "\n",
    "  return (hours * 60) + min + (seconds / 60)"
   ]
  },
  {
   "cell_type": "code",
   "execution_count": 3,
   "metadata": {
    "id": "DkaIwo9zkye_"
   },
   "outputs": [],
   "source": [
    "# Graph stuff\n",
    "\n",
    "def add_vertex(g, v):\n",
    "  if v in g:\n",
    "    raise Exception(\"Hnúturinn er þegar í netinu\")\n",
    "  else:\n",
    "    g[v] = []\n",
    "  return g\n",
    "\n",
    "def add_edge(g, fro, to, data):\n",
    "  if fro not in g:\n",
    "    raise Exception(fro + \" er ekki í netinu\")\n",
    "  if to not in g:\n",
    "    raise Exception(to + \" er ekki í netinu\")\n",
    "  g[fro].append([data, to])\n",
    "  return g\n",
    "\n",
    "def get_edges(g, v):\n",
    "  return g[v]"
   ]
  },
  {
   "cell_type": "code",
   "execution_count": 4,
   "metadata": {
    "colab": {
     "base_uri": "https://localhost:8080/"
    },
    "id": "Lk8mYi9Nasru",
    "outputId": "f850f17d-7e96-49bc-cd7b-99280ee9f377"
   },
   "outputs": [],
   "source": [
    "import csv\n",
    "import sys\n",
    "\n",
    "#0: stop_id\n",
    "#1: stop_name\n",
    "#2: stop_lat\n",
    "#3: stop_lon\n",
    "#4: location_type\n",
    "stoppistodvar = []\n",
    "with open(sys.path[0]+'/gtfs/stops.txt', newline='', encoding=\"utf-8\") as csvfile:\n",
    "    spamreader = csv.reader(csvfile, delimiter=',', quotechar='|')\n",
    "    next(spamreader, None) # skip the header\n",
    "    for row in spamreader:\n",
    "        stoppistodvar.append(row)\n",
    "\n",
    "#0: route_id\n",
    "#1: service_id\n",
    "#2: trip_id\n",
    "#3: trip_headsign\n",
    "#4: trip_short_name\n",
    "#5: direction_id\n",
    "#6: block_id\n",
    "#7: shape_id\n",
    "permitted_trips = set()\n",
    "with open(sys.path[0]+'/gtfs/trips.txt', newline='', encoding=\"utf-8\") as csvfile:\n",
    "    spamreader = csv.reader(csvfile, delimiter=',', quotechar='|')\n",
    "    next(spamreader, None) # skip the header\n",
    "    for row in spamreader:\n",
    "        if row[0][:2] == 'ST':\n",
    "            permitted_trips.add(row[2])\n",
    "\n",
    "#0: trip_id\n",
    "#1: arrival_time\n",
    "#2: departure_time\n",
    "#3: stop_id\n",
    "#4: stop_sequence\n",
    "#5: stop_headsign\n",
    "#6: pickup_type\n",
    "leidir = []\n",
    "with open(sys.path[0]+'/gtfs/stop_times.txt', newline='', encoding=\"utf-8\") as csvfile:\n",
    "    spamreader = csv.reader(csvfile, delimiter=',', quotechar='|')\n",
    "    next(spamreader, None) # skip the header\n",
    "    paths = {}\n",
    "    for row in spamreader:\n",
    "      if row[6] == '0' and row[0] in permitted_trips:\n",
    "        if row[0] not in paths:\n",
    "          paths[row[0]] = []\n",
    "        paths[row[0]].append(row)\n",
    "\n",
    "stoppistodvar_id_to_name = {}\n",
    "for x in stoppistodvar:\n",
    "    stoppistodvar_id_to_name[x[0]] = x[1]"
   ]
  },
  {
   "cell_type": "code",
   "execution_count": 5,
   "metadata": {},
   "outputs": [
    {
     "name": "stdout",
     "output_type": "stream",
     "text": [
      "131300\n"
     ]
    }
   ],
   "source": [
    "# Making the graph\n",
    "\n",
    "graph = {}\n",
    "\n",
    "for x in stoppistodvar:\n",
    "  graph = add_vertex(graph, x[0])\n",
    "\n",
    "for path in paths:\n",
    "  for s in range(len(paths[path])-1):\n",
    "    interval_name = 'p' + path + '_' + paths[path][s][4]\n",
    "    graph = add_vertex(graph, interval_name)\n",
    "    graph = add_edge(graph, paths[path][s][3], interval_name, paths[path][s][2])\n",
    "    graph = add_edge(graph, interval_name, paths[path][s+1][3], paths[path][s+1][1])\n",
    "\n",
    "print(len(graph))"
   ]
  },
  {
   "cell_type": "code",
   "execution_count": 6,
   "metadata": {},
   "outputs": [
    {
     "name": "stdout",
     "output_type": "stream",
     "text": [
      "Walkable locations from stop 10000814:\n",
      "- To stop 10000812: 178.29 meters\n",
      "- To stop 10000937: 183.80 meters\n",
      "- To stop 10000948: 240.80 meters\n",
      "- To stop 10000949: 237.00 meters\n"
     ]
    }
   ],
   "source": [
    "import math\n",
    "import sys\n",
    "\n",
    "stoppistodvar = []\n",
    "with open(sys.path[0]+'/gtfs/stops.txt', newline='', encoding=\"utf-8\") as csvfile:\n",
    "    spamreader = csv.reader(csvfile, delimiter=',', quotechar='|')\n",
    "    next(spamreader, None) \n",
    "    for row in spamreader:\n",
    "        stoppistodvar.append(row)\n",
    "\n",
    "stop_locations = {}\n",
    "for row in stoppistodvar:\n",
    "    stop_id = row[0]\n",
    "    stop_lat = float(row[2])\n",
    "    stop_lon = float(row[3])\n",
    "    stop_locations[stop_id] = (stop_lat, stop_lon)\n",
    "\n",
    "lat, lon = stop_locations['10000802']\n",
    "# print(\"Latitude:\", lat, \"Longitude:\", lon)\n",
    "\n",
    "def calculate_distance(origin, destination):\n",
    "    lat1, lon1 = origin\n",
    "    lat2, lon2 = destination\n",
    "    R = 6371000\n",
    "    dLat = math.radians(lat2 - lat1)\n",
    "    dLon = math.radians(lon2 - lon1)\n",
    "    a = math.sin(dLat/2) * math.sin(dLat/2) + math.cos(math.radians(lat1)) * math.cos(math.radians(lat2)) * math.sin(dLon/2) * math.sin(dLon/2)\n",
    "    c = 2 * math.atan2(math.sqrt(a), math.sqrt(1-a))\n",
    "    d = R * c\n",
    "    return d\n",
    "\n",
    "# print('Distance in meters', calculate_distance(stop_locations['20000250'], stop_locations['20000251']))\n",
    "\n",
    "MAX_WALKING_DISTANCE = 300  \n",
    "\n",
    "def add_walking_edges(graph, stop_locations):\n",
    "    stop_ids = list(stop_locations.keys())\n",
    "    for i, stop_id1 in enumerate(stop_ids):\n",
    "        for stop_id2 in stop_ids[i+1:]:  \n",
    "            distance = calculate_distance(stop_locations[stop_id1], stop_locations[stop_id2])\n",
    "            if distance <= MAX_WALKING_DISTANCE:\n",
    "                try:\n",
    "                    graph = add_edge(graph, stop_id1, stop_id2, distance)\n",
    "                    graph = add_edge(graph, stop_id2, stop_id1, distance)\n",
    "                except Exception as e:\n",
    "                    print('Exception', e) \n",
    "    return graph\n",
    "\n",
    "# add_walking_edges(graph, stop_locations)\n",
    "\n",
    "def print_walkable_stops_from(graph, stop_id, stop_locations):\n",
    "    if stop_id not in stop_locations:\n",
    "        print(\"Stop ID not found in stop locations.\")\n",
    "        return\n",
    "    \n",
    "    origin = stop_locations[stop_id]\n",
    "    print(f\"Walkable locations from stop {stop_id}:\")\n",
    "    \n",
    "    for other_stop_id, destination in stop_locations.items():\n",
    "        if stop_id == other_stop_id:  \n",
    "            continue\n",
    "        \n",
    "        distance = calculate_distance(origin, destination)\n",
    "        if distance <= MAX_WALKING_DISTANCE:\n",
    "            print(f\"- To stop {other_stop_id}: {distance:.2f} meters\")\n",
    "\n",
    "print_walkable_stops_from(graph, '10000814', stop_locations)\n"
   ]
  },
  {
   "cell_type": "code",
   "execution_count": 7,
   "metadata": {},
   "outputs": [
    {
     "name": "stdout",
     "output_type": "stream",
     "text": [
      "1317\n",
      "[271.97757800503103, '20000020']\n",
      "[33.88491895785681, '20000251']\n"
     ]
    }
   ],
   "source": [
    "# Making the graph with walking edges\n",
    "\n",
    "walk_graph = {}\n",
    "\n",
    "for x in stoppistodvar:\n",
    "  walk_graph = add_vertex(walk_graph, x[0])\n",
    "walk_graph = add_walking_edges(walk_graph, stop_locations)\n",
    "\n",
    "print(len(walk_graph))\n",
    "\n",
    "for x in walk_graph['20000254']:\n",
    "  print(x)"
   ]
  },
  {
   "cell_type": "code",
   "execution_count": 8,
   "metadata": {},
   "outputs": [
    {
     "name": "stdout",
     "output_type": "stream",
     "text": [
      "12:40\n"
     ]
    }
   ],
   "source": [
    "def minutes_to_time(t):\n",
    "    t = int(t)\n",
    "    hours = t // 60\n",
    "    minutes = t % 60\n",
    "    return f'{hours:02d}:{minutes:02d}'\n",
    "\n",
    "print(minutes_to_time(760))"
   ]
  },
  {
   "cell_type": "code",
   "execution_count": null,
   "metadata": {},
   "outputs": [],
   "source": [
    "# g: graph\n",
    "# x: origin\n",
    "# y: destination\n",
    "# t: beginning time\n",
    "\n",
    "def find_path(g, g_walk, x, y, t):\n",
    "    t = time_to_minutes(t)\n",
    "    if x not in g:\n",
    "        raise Exception(x + \" er ekki í netinu\")\n",
    "    unvisited_nodes = list(g.keys())\n",
    "    earliest = {}\n",
    "    previous_nodes = {}\n",
    "    for node in unvisited_nodes:\n",
    "        earliest[node] = sys.maxsize\n",
    "    earliest[x] = t\n",
    "    while unvisited_nodes: # Need to find an algorithm that isn't O(n^2)\n",
    "        current_min_node = None\n",
    "        for node in unvisited_nodes:\n",
    "            if current_min_node == None:\n",
    "                current_min_node = node\n",
    "            elif earliest[node] < earliest[current_min_node]:\n",
    "                current_min_node = node\n",
    "        if earliest[current_min_node] == sys.maxsize:\n",
    "            break\n",
    "        e = get_edges(g, current_min_node)\n",
    "        if current_min_node == y:\n",
    "            break\n",
    "        for edge in e:\n",
    "            if earliest[edge[1]] >= time_to_minutes(edge[0]) and time_to_minutes(edge[0]) >= earliest[current_min_node]:\n",
    "                earliest[edge[1]] = time_to_minutes(edge[0])\n",
    "                previous_nodes[edge[1]] = current_min_node\n",
    "        if current_min_node in g_walk:\n",
    "            e = get_edges(g_walk, current_min_node)\n",
    "            for edge in e:\n",
    "                time_to_reach = earliest[current_min_node] + edge[0]/40 # 40 meters per minute\n",
    "                if earliest[edge[1]] >= time_to_reach:\n",
    "                    earliest[edge[1]] = time_to_reach\n",
    "                    previous_nodes[edge[1]] = current_min_node\n",
    "        unvisited_nodes.remove(current_min_node)\n",
    "    # Change the following for better formatting\n",
    "    bus_trip = y\n",
    "    print(stoppistodvar_id_to_name[y], minutes_to_time(earliest[y]))\n",
    "    while bus_trip != x:\n",
    "        bus_trip = previous_nodes[bus_trip]\n",
    "        if bus_trip in stoppistodvar_id_to_name:\n",
    "            print(stoppistodvar_id_to_name[bus_trip], minutes_to_time(earliest[bus_trip]))\n",
    "\n",
    "find_path(graph, walk_graph, '90000097', '90000446', \"11:30:00\")"
   ]
  },
  {
   "cell_type": "code",
   "execution_count": null,
   "metadata": {},
   "outputs": [],
   "source": []
  }
 ],
 "metadata": {
  "colab": {
   "provenance": []
  },
  "kernelspec": {
   "display_name": "Python 3 (ipykernel)",
   "language": "python",
   "name": "python3"
  },
  "language_info": {
   "codemirror_mode": {
    "name": "ipython",
    "version": 3
   },
   "file_extension": ".py",
   "mimetype": "text/x-python",
   "name": "python",
   "nbconvert_exporter": "python",
   "pygments_lexer": "ipython3",
   "version": "3.11.9"
  }
 },
 "nbformat": 4,
 "nbformat_minor": 4
}
