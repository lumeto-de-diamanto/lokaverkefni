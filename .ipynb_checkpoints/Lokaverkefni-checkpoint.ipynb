{
 "cells": [
  {
   "cell_type": "markdown",
   "metadata": {
    "id": "Ob3W2u53q0MX"
   },
   "source": [
    "# Lokaverkefni: Leiðarval hjá Strætó"
   ]
  },
  {
   "cell_type": "code",
   "execution_count": null,
   "metadata": {
    "colab": {
     "base_uri": "https://localhost:8080/"
    },
    "id": "Fw6OZAw7lM8E",
    "outputId": "2e7d4c1f-411c-42a1-90e2-28e34ad1f6b4"
   },
   "outputs": [],
   "source": [
    "from posixpath import split\n",
    "\n",
    "def convertTime(t1, t2):\n",
    "  t1_hours = int(t1.split(':')[0])\n",
    "  t1_min = int(t1.split(':')[1])\n",
    "  t1_seconds = int(t1.split(':')[2])\n",
    "\n",
    "  t2_hours = int(t2.split(':')[0])\n",
    "  t2_min = int(t2.split(':')[1])\n",
    "  t2_seconds = int(t2.split(':')[2])\n",
    "\n",
    "\n",
    "  t1_minutes = (t1_hours * 60 ) + t1_min + (t1_seconds / 60)\n",
    "  t2_minutes = (t2_hours * 60 ) + t2_min + (t2_seconds / 60)\n",
    "\n",
    "  diff = round((max(t1_minutes, t2_minutes) - min(t1_minutes, t2_minutes)), 2)\n",
    "\n",
    "  return diff\n",
    "\n",
    "\n",
    "t1 = '09:30:20'\n",
    "t2 = '09:10:00'\n",
    "print(convertTime(t1, t2))"
   ]
  },
  {
   "cell_type": "code",
   "execution_count": null,
   "metadata": {},
   "outputs": [],
   "source": [
    "def time_to_minutes(ti):\n",
    "  splitted = ti.split(':')\n",
    "  \n",
    "  hours = int(splitted[0])\n",
    "  min = int(splitted[1])\n",
    "  seconds = int(splitted[2])\n",
    "\n",
    "  return (hours * 60) + min + (seconds / 60)"
   ]
  },
  {
   "cell_type": "code",
   "execution_count": null,
   "metadata": {
    "id": "DkaIwo9zkye_"
   },
   "outputs": [],
   "source": [
    "# Graph stuff\n",
    "\n",
    "def add_vertex(g, v):\n",
    "  if v in g:\n",
    "    raise Exception(\"Hnúturinn er þegar í netinu\")\n",
    "  else:\n",
    "    g[v] = []\n",
    "  return g\n",
    "\n",
    "def add_edge(g, fro, to, data):\n",
    "  if fro not in g:\n",
    "    raise Exception(fro + \" er ekki í netinu\")\n",
    "  if to not in g:\n",
    "    raise Exception(to + \" er ekki í netinu\")\n",
    "  g[fro].append([data, to])\n",
    "  return g"
   ]
  },
  {
   "cell_type": "code",
   "execution_count": null,
   "metadata": {
    "colab": {
     "base_uri": "https://localhost:8080/"
    },
    "id": "Lk8mYi9Nasru",
    "outputId": "f850f17d-7e96-49bc-cd7b-99280ee9f377"
   },
   "outputs": [],
   "source": [
    "import csv\n",
    "import sys\n",
    "\n",
    "#0: stop_id\n",
    "#1: stop_name\n",
    "#2: stop_lat\n",
    "#3: stop_lon\n",
    "#4: location_type\n",
    "stoppistodvar = []\n",
    "with open(sys.path[0]+'/gtfs/stops.txt', newline='', encoding=\"utf-8\") as csvfile:\n",
    "    spamreader = csv.reader(csvfile, delimiter=',', quotechar='|')\n",
    "    next(spamreader, None) # skip the header\n",
    "    for row in spamreader:\n",
    "        stoppistodvar.append(row)\n",
    "\n",
    "#0: trip_id\n",
    "#1: arrival_time\n",
    "#2: departure_time\n",
    "#3: stop_id\n",
    "#4: stop_sequence\n",
    "#5: stop_headsign\n",
    "#6: pickup_type\n",
    "leidir = []\n",
    "with open(sys.path[0]+'/gtfs/stop_times.txt', newline='', encoding=\"utf-8\") as csvfile:\n",
    "    spamreader = csv.reader(csvfile, delimiter=',', quotechar='|')\n",
    "    next(spamreader, None) # skip the header\n",
    "    paths = {}\n",
    "    for row in spamreader:\n",
    "      if row[6] == '0':\n",
    "        if row[0] not in paths:\n",
    "          paths[row[0]] = []\n",
    "        paths[row[0]].append(row)\n",
    "\n",
    "# An example of a path\n",
    "for x in paths['538402']:\n",
    "  print(x)\n",
    "\n",
    "for x in stoppistodvar[:50]:\n",
    "  print(x)\n",
    "\n",
    "#for path in paths:\n",
    "#  for s in range(len(paths[path])-1):\n",
    "#    print(paths[path][s], ' goes to ', paths[path][s])"
   ]
  },
  {
   "cell_type": "code",
   "execution_count": null,
   "metadata": {},
   "outputs": [],
   "source": [
    "# Making the graph\n",
    "\n",
    "graph = {}\n",
    "\n",
    "for x in stoppistodvar:\n",
    "  graph = add_vertex(graph, x[0])\n",
    "\n",
    "for path in paths:\n",
    "  for s in range(len(paths[path])-1):\n",
    "    interval_name = 'p' + path + '_' + paths[path][s][4]\n",
    "    graph = add_vertex(graph, interval_name)\n",
    "    graph = add_edge(graph, paths[path][s][3], interval_name, paths[path][s][2])\n",
    "    graph = add_edge(graph, interval_name, paths[path][s+1][3], paths[path][s+1][1])\n",
    "\n",
    "print(len(graph))\n",
    "\n",
    "for x in graph['20000254']:\n",
    "  print(x)"
   ]
  }
 ],
 "metadata": {
  "colab": {
   "provenance": []
  },
  "kernelspec": {
   "display_name": "Python 3 (ipykernel)",
   "language": "python",
   "name": "python3"
  },
  "language_info": {
   "codemirror_mode": {
    "name": "ipython",
    "version": 3
   },
   "file_extension": ".py",
   "mimetype": "text/x-python",
   "name": "python",
   "nbconvert_exporter": "python",
   "pygments_lexer": "ipython3",
   "version": "3.11.9"
  }
 },
 "nbformat": 4,
 "nbformat_minor": 4
}
